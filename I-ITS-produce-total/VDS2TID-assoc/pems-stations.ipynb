{
 "cells": [
  {
   "cell_type": "code",
   "execution_count": 1,
   "metadata": {},
   "outputs": [],
   "source": [
    "import requests\n",
    "url = \"https://pems.dot.ca.gov/\"\n",
    "data = {\"username\": '', \"password\": ''}\n",
    "s = requests.session()\n",
    "res = s.post(url, data)"
   ]
  },
  {
   "cell_type": "code",
   "execution_count": 2,
   "metadata": {},
   "outputs": [],
   "source": [
    "# https://pems.dot.ca.gov/?city_id=64000&dnode=City&content=elv&tab=stations&pagenum_all=1"
   ]
  },
  {
   "cell_type": "code",
   "execution_count": 3,
   "metadata": {},
   "outputs": [],
   "source": [
    "#retrieve stations page\n",
    "res = s.get('https://pems.dot.ca.gov/?city_id=67000&dnode=City&content=elv&tab=stations')"
   ]
  },
  {
   "cell_type": "code",
   "execution_count": 4,
   "metadata": {},
   "outputs": [],
   "source": [
    "from bs4 import BeautifulSoup\n",
    "soup = BeautifulSoup(res.text, 'html.parser')"
   ]
  },
  {
   "cell_type": "code",
   "execution_count": 5,
   "metadata": {},
   "outputs": [
    {
     "name": "stdout",
     "output_type": "stream",
     "text": [
      "['416144', '416145', '402814', '402815', '402816', '402817', '420340', '420341', '404896', '404921', '404886', '404923', '404885', '404906', '404891', '404908', '404889', '402827', '414759', '414758', '404918', '404919', '404920', '404883', '404922', '404884', '404905', '404887', '404907', '404888', '404909', '404528', '401795', '401358', '400255', '401934', '401277', '400868', '403132', '401409', '401516', '406871', '401819', '404569', '401454', '403092', '401357', '401935', '401285', '400043', '403131', '401410', '401408', '401405', '401820', '409335', '409336', '422197', '404617', '422198', '404618', '419056', '400156', '400676', '401486', '400575', '425245', '425246', '400322', '400573', '404647', '404648', '419093', '400746', '400397', '400318', '401470', '400552', '425281', '425282', '401018', '400231']\n"
     ]
    }
   ],
   "source": [
    "import re\n",
    "\n",
    "VDS = []\n",
    "for A in soup.find_all(href=re.compile(\"station_id\")):\n",
    "#     print(A)\n",
    "    vds = re.findall(r'\\d+', str(A))[1]\n",
    "#     print(VDS)\n",
    "    VDS.append(str(vds))\n",
    "\n",
    "#     https://pems.dot.ca.gov/?city_id=67000&station_id=416144&dnode=VDS\n",
    "#     break\n",
    "print(VDS)"
   ]
  },
  {
   "cell_type": "code",
   "execution_count": 8,
   "metadata": {},
   "outputs": [],
   "source": [
    "def getLoc(url):\n",
    "    vdsres = s.get(url)\n",
    "    vdssoup = BeautifulSoup(vdsres.text, 'html.parser')\n",
    "    STREET = re.findall(r'Name=(.*?),', str(vdssoup.find_all('area')[0]))[0]\n",
    "    COORDS=[]\n",
    "    for C in vdssoup.find_all(style=re.compile('nowrap'))[-2:]:\n",
    "        COORDS.append(re.search(r'[+-]?\\d+[.]\\d+', str(C)).group(0))\n",
    "    return STREET,COORDS[1],COORDS[0]"
   ]
  },
  {
   "cell_type": "code",
   "execution_count": 9,
   "metadata": {},
   "outputs": [
    {
     "name": "stdout",
     "output_type": "stream",
     "text": [
      "vds;place;X;Y\n",
      "416144;500' N of Lake St;-122.469662;37.791909\n",
      "416145;oppo 500' N of Lake St;-122.469816;37.792051\n",
      "402814;SFOBB S-curve loc 1;-122.382858;37.793423\n",
      "402815;SFOBB S-curve loc 1;-122.376772;37.799144\n",
      "402816;SFOBB S-curve loc 1;-122.37087;37.804603\n",
      "402817;SFOBB S-curve loc 1;-122.367285;37.807966\n",
      "420340;SFOBB S-curve loc 1;-122.363109;37.811826\n",
      "420341;SFOBB S-curve loc 1;-122.362873;37.812048\n",
      "404896;SFOBB S-curve loc 1;-122.36157;37.813047\n",
      "404921;SFOBB S-curve loc 1;-122.359342;37.814005\n",
      "404886;SFOBB S-curve loc 1;-122.357984;37.814439\n",
      "404923;SFOBB S-curve loc 1;-122.356114;37.815028\n",
      "404885;SFOBB S-curve loc 1;-122.352728;37.816129\n",
      "404906;SFOBB S-curve loc 1;-122.351037;37.816684\n",
      "404891;SFOBB S-curve loc 1;-122.349345;37.817238\n",
      "404908;SFOBB S-curve loc 2;-122.347825;37.817739\n",
      "404889;SFOBB S-curve loc 2;-122.346136;37.818297\n",
      "402827;SFOBB S-Curve;-122.376792;37.799244\n",
      "414759;SFOBB S-Curve;-122.3631;37.811991\n",
      "414758;SFOBB S-Curve;-122.362981;37.8121\n",
      "404918;SFOBB S-Curve;-122.362743;37.812318\n",
      "404919;SFOBB S-Curve;-122.362231;37.812723\n",
      "404920;SFOBB S-Curve;-122.361274;37.813382\n",
      "404883;SFOBB S-Curve;-122.359471;37.814051\n",
      "404922;SFOBB S-Curve;-122.357787;37.814597\n",
      "404884;SFOBB S-Curve;-122.355938;37.815201\n",
      "404905;SFOBB S-Curve;-122.352909;37.816189\n",
      "404887;SFOBB S-Curve;-122.351227;37.816738\n",
      "404907;SFOBB S-Curve;-122.349713;37.817231\n",
      "404888;SFOBB S-Curve;-122.34803;37.817784\n",
      "404909;SFOBB S-Curve;-122.346347;37.81834\n",
      "404528;S Sierra Point Prkwy rm-n-diag;-122.395412;37.710864\n",
      "401795;S of Sierra Point Pkwy/Lagoon;-122.398947;37.717176\n",
      "401358;S of Sierra Point Pkwy/Lagoon;-122.40102;37.72349\n",
      "400255;Sierra Pt Parkway &amp; Lagoon Wy;-122.402599;37.727662\n",
      "401934;Sierra Pt Parkway &amp; Lagoon Wy;-122.406177;37.73437\n",
      "401277;Blanken Ave;-122.406392;37.74302\n",
      "403132;Paul Ave off-s-loop;-122.402898;37.7536\n",
      "400868;Paul Ave off-s-loop;-122.402898;37.7536\n",
      "401409;Paul Ave off-s-loop;-122.403503;37.756863\n",
      "401516;BACON ST NEAR SAN BRUNO AVE;-122.406233;37.760031\n",
      "406871;25th St POC;-122.418524;37.769968\n",
      "401819;25th St POC;-122.419351;37.77007\n",
      "404569;S Sierra Point Prkwy rm-n-diag;-122.395652;37.710838\n",
      "401454;S of Sierra Point Pkwy/Lagoon;-122.399154;37.717182\n",
      "401357;S of Sierra Point Pkwy/Lagoon;-122.401258;37.723512\n",
      "403092;S of Sierra Point Pkwy/Lagoon;-122.401258;37.723512\n",
      "401935;Sierra Pt Parkway &amp; Lagoon Wy;-122.406375;37.734313\n",
      "401285;Blanken Ave;-122.405853;37.744018\n",
      "403131;Paul Ave off-s-loop;-122.403092;37.753591\n",
      "400043;Paul Ave off-s-loop;-122.403092;37.753591\n",
      "401410;Paul Ave off-s-loop;-122.403619;37.75671\n",
      "401408;On Bayshore Blvd;-122.405643;37.75869\n",
      "401405;Vermont St;-122.416414;37.769586\n",
      "401820;Vermont St;-122.416876;37.769613\n",
      "409335;oppo Vista Point off-n-loop;-122.481539;37.832687\n",
      "409336;oppo Vista Point off-n-loop;-122.482669;37.833371\n",
      "422197;Sickles Ave UC;-122.454834;37.711252\n",
      "404617;Sickles Ave UC;-122.454834;37.711252\n",
      "422198;Sickles Ave UC;-122.452951;37.712594\n",
      "404618;Sickles Ave UC;-122.448259;37.719431\n",
      "419056;Sickles Ave UC;-122.448225;37.719718\n",
      "400156;Sickles Ave UC;-122.445019;37.727079\n",
      "400676;Sickles Ave UC;-122.43422;37.731577\n",
      "401486;Sickles Ave UC;-122.424609;37.731414\n",
      "400575;Ocean Ave on-n-diag;-122.417132;37.731898\n",
      "425245;Ocean Ave on-n-diag;-122.417132;37.731898\n",
      "425246;Ocean Ave on-n-diag;-122.410958;37.733706\n",
      "400322;Ocean Ave on-n-diag;-122.409462;37.734299\n",
      "400573;18 TH ST / PENNSYLVANIA;-122.397356;37.770861\n",
      "404647;John Daly Blvd rm-s-diag;-122.455028;37.711347\n",
      "404648;John Daly Blvd rm-s-diag;-122.448467;37.719675\n",
      "419093;John Daly Blvd rm-s-diag;-122.448253;37.72142\n",
      "400746;John Daly Blvd rm-s-diag;-122.448231;37.721564\n",
      "400397;John Daly Blvd rm-s-diag;-122.445512;37.726891\n",
      "400318;oppo Sickles Ave UC;-122.436258;37.731198\n",
      "401470;oppo Sickles Ave UC;-122.427875;37.731979\n",
      "425281;oppo Ocean Ave on-n-diag;-122.421517;37.731863\n",
      "400552;oppo Ocean Ave on-n-diag;-122.421517;37.731863\n",
      "425282;oppo Ocean Ave on-n-diag;-122.415485;37.732249\n",
      "401018;oppo Ocean Ave on-n-diag;-122.414119;37.732647\n",
      "400231;18th St / Pennsylvania;-122.392743;37.762469\n"
     ]
    }
   ],
   "source": [
    "print('vds;place;X;Y')\n",
    "for vds in VDS:\n",
    "#     print('https://pems.dot.ca.gov/?city_id=67000&station_id={}&dnode=VDS'.format(vds))\n",
    "    print(';'.join([vds,*getLoc('https://pems.dot.ca.gov/?city_id=67000&station_id={}&dnode=VDS'.format(vds))]))"
   ]
  },
  {
   "cell_type": "code",
   "execution_count": 6,
   "metadata": {},
   "outputs": [],
   "source": []
  },
  {
   "cell_type": "code",
   "execution_count": 7,
   "metadata": {},
   "outputs": [],
   "source": [
    "rr = 'https://pems.dot.ca.gov/?report_form=1&dnode=VDS&content=loops&tab=det_timeseries&export=text&station_id={}'.format(406871)\n",
    "# time = '&s_time_id=1625702400&s_time_id_f=07%2F08%2F2021+00%3A00&e_time_id=1626274740&e_time_id_f=07%2F14%2F2021+14%3A59'\n",
    "opts = '&tod=all&tod_from=0&tod_to=0&dow_0=on&dow_1=on&dow_2=on&dow_3=on&dow_4=on&dow_5=on&dow_6=on&holidays=on&q=flow&q2=speed&gn=5min&agg=on&lane1=on&lane2=on'"
   ]
  },
  {
   "cell_type": "code",
   "execution_count": 8,
   "metadata": {},
   "outputs": [
    {
     "name": "stdout",
     "output_type": "stream",
     "text": [
      "14:00:00\n"
     ]
    },
    {
     "data": {
      "text/plain": [
       "'https://pems.dot.ca.gov/?report_form=1&dnode=VDS&content=loops&tab=det_timeseries&export=text&station_id=406871&s_time_id=1604617200&s_time_id_f=11%2F07%2F2020+00%3A00&e_time_id=1604703540&e_time_id_f=11%2F07%2F2020+23%3A59&tod=all&tod_from=0&tod_to=0&dow_0=on&dow_1=on&dow_2=on&dow_3=on&dow_4=on&dow_5=on&dow_6=on&holidays=on&q=flow&q2=speed&gn=5min&agg=on&lane1=on&lane2=on'"
      ]
     },
     "execution_count": 8,
     "metadata": {},
     "output_type": "execute_result"
    }
   ],
   "source": [
    "def fday(year=2020, month=11, day=6):\n",
    "    from datetime import datetime,tzinfo,timezone,timedelta\n",
    "\n",
    "    tdiff = timedelta(hours=14, minutes=0)\n",
    "    print(tdiff)\n",
    "    \n",
    "    tloc1 = datetime(year, month, day+1,0,0)\n",
    "    tloc2 = datetime(year, month, day+1,23,59)\n",
    "    \n",
    "    tgmt1 = str(int((tloc1-tdiff).timestamp()))\n",
    "    tgmt2 = str(int(((tloc2-tdiff).timestamp())))\n",
    "    \n",
    "    tstr1 = tloc1.strftime(\"%m-%d-%Y %H:%M\")\n",
    "    tstr2 = tloc2.strftime(\"%m-%d-%Y %H:%M\")\n",
    "    tstr1 = tstr1.replace('-','%2F').replace(':','%3A').replace(' ','+')\n",
    "    tstr2 = tstr2.replace('-','%2F').replace(':','%3A').replace(' ','+')\n",
    "    \n",
    "    template = '&s_time_id={}&s_time_id_f={}&e_time_id={}&e_time_id_f={}'.format(tgmt1,tstr1,tgmt2,tstr2)\n",
    "    return template\n",
    "rr+fday(2020,11,6)+opts"
   ]
  },
  {
   "cell_type": "code",
   "execution_count": null,
   "metadata": {},
   "outputs": [],
   "source": [
    "2020-11-06 07:30:30"
   ]
  },
  {
   "cell_type": "code",
   "execution_count": null,
   "metadata": {},
   "outputs": [],
   "source": []
  },
  {
   "cell_type": "code",
   "execution_count": 12,
   "metadata": {},
   "outputs": [],
   "source": [
    "import pandas as pd\n",
    "dt=pd.read_csv('pems2.txt',sep='\\t')"
   ]
  },
  {
   "cell_type": "code",
   "execution_count": 13,
   "metadata": {},
   "outputs": [
    {
     "data": {
      "text/plain": [
       "Index(['5 Minutes', 'Lane 1 Flow (Veh/5 Minutes)', 'Lane 1 Speed (mph)',\n",
       "       'Lane 2 Flow (Veh/5 Minutes)', 'Lane 2 Speed (mph)',\n",
       "       'Flow (Veh/5 Minutes)', 'Speed (mph)', '# Lane Points', '% Observed'],\n",
       "      dtype='object')"
      ]
     },
     "execution_count": 13,
     "metadata": {},
     "output_type": "execute_result"
    }
   ],
   "source": [
    "dt.columns"
   ]
  },
  {
   "cell_type": "code",
   "execution_count": 21,
   "metadata": {},
   "outputs": [
    {
     "data": {
      "text/plain": [
       "Text(0.5, 0, 'Flow')"
      ]
     },
     "execution_count": 21,
     "metadata": {},
     "output_type": "execute_result"
    },
    {
     "data": {
      "image/png": "[encoded data removed]",
      "text/plain": [
       "<Figure size 432x288 with 1 Axes>"
      ]
     },
     "metadata": {
      "needs_background": "light"
     },
     "output_type": "display_data"
    }
   ],
   "source": [
    "import matplotlib.pyplot as plt\n",
    "plt.scatter(dt['Lane 1 Flow (Veh/5 Minutes)'],dt['Lane 1 Speed (mph)'])\n",
    "plt.ylabel('Speed')\n",
    "plt.xlabel('Flow')"
   ]
  },
  {
   "cell_type": "code",
   "execution_count": 41,
   "metadata": {},
   "outputs": [
    {
     "data": {
      "text/plain": [
       "Text(0.5, 0, 'Flow')"
      ]
     },
     "execution_count": 41,
     "metadata": {},
     "output_type": "execute_result"
    },
    {
     "data": {
      "image/png": "[encoded data removed]",
      "text/plain": [
       "<Figure size 432x288 with 1 Axes>"
      ]
     },
     "metadata": {
      "needs_background": "light"
     },
     "output_type": "display_data"
    }
   ],
   "source": [
    "plt.scatter(dt['Lane 2 Flow (Veh/5 Minutes)'],dt['Lane 2 Speed (mph)'])\n",
    "plt.ylabel('Speed')\n",
    "plt.xlabel('Flow')"
   ]
  },
  {
   "cell_type": "code",
   "execution_count": null,
   "metadata": {},
   "outputs": [],
   "source": []
  },
  {
   "cell_type": "code",
   "execution_count": 39,
   "metadata": {},
   "outputs": [
    {
     "data": {
      "text/plain": [
       "Text(0, 0.5, 'Flow/5m')"
      ]
     },
     "execution_count": 39,
     "metadata": {},
     "output_type": "execute_result"
    },
    {
     "data": {
      "image/png": "[encoded data removed]",
      "text/plain": [
       "<Figure size 720x360 with 1 Axes>"
      ]
     },
     "metadata": {
      "needs_background": "light"
     },
     "output_type": "display_data"
    }
   ],
   "source": [
    "plt.figure(figsize=(10,5))\n",
    "plt.plot(dt['Lane 1 Flow (Veh/5 Minutes)'])\n",
    "plt.plot(dt['Lane 2 Flow (Veh/5 Minutes)'])\n",
    "plt.axvline(x=(7*60+30)/5,ls='--',c='r')\n",
    "plt.ylabel('Flow/5m')"
   ]
  },
  {
   "cell_type": "code",
   "execution_count": 36,
   "metadata": {},
   "outputs": [
    {
     "data": {
      "text/plain": [
       "Text(0.5, 0, 'Time')"
      ]
     },
     "execution_count": 36,
     "metadata": {},
     "output_type": "execute_result"
    },
    {
     "data": {
      "image/png": "[encoded data removed]",
      "text/plain": [
       "<Figure size 720x360 with 1 Axes>"
      ]
     },
     "metadata": {
      "needs_background": "light"
     },
     "output_type": "display_data"
    }
   ],
   "source": [
    "plt.figure(figsize=(10,5))\n",
    "plt.plot(dt['Lane 1 Speed (mph)'])\n",
    "plt.plot(dt['Lane 2 Speed (mph)'])\n",
    "plt.axvline(x=(7*60+30)/5,ls='--',c='r')\n",
    "plt.ylabel('Speed')\n",
    "plt.xlabel('Time')"
   ]
  },
  {
   "cell_type": "code",
   "execution_count": null,
   "metadata": {},
   "outputs": [],
   "source": []
  },
  {
   "cell_type": "code",
   "execution_count": null,
   "metadata": {},
   "outputs": [],
   "source": []
  },
  {
   "cell_type": "code",
   "execution_count": null,
   "metadata": {},
   "outputs": [],
   "source": []
  },
  {
   "cell_type": "code",
   "execution_count": 228,
   "metadata": {},
   "outputs": [
    {
     "name": "stdout",
     "output_type": "stream",
     "text": [
      "14:00:00\n"
     ]
    },
    {
     "data": {
      "text/plain": [
       "'https://pems.dot.ca.gov/?report_form=1&dnode=VDS&content=loops&tab=det_timeseries&export=text&station_id=401819&s_time_id=1625616000&s_time_id_f=07%2F08%2F2021+00%3A00&e_time_id=1626307140&e_time_id_f=07%2F15%2F2021+23%3A59&tod=all&tod_from=0&tod_to=0&dow_0=on&dow_1=on&dow_2=on&dow_3=on&dow_4=on&dow_5=on&dow_6=on&holidays=on&q=flow&q2=speed&gn=5min&agg=on&lane1=on&lane2=on'"
      ]
     },
     "execution_count": 228,
     "metadata": {},
     "output_type": "execute_result"
    }
   ],
   "source": [
    "def fweek(year=2021, month=7, day=14): #extract week before\n",
    "    from datetime import datetime,tzinfo,timezone,timedelta\n",
    "\n",
    "    tdiff = timedelta(hours=14, minutes=0)\n",
    "    print(tdiff)\n",
    "    tweek = timedelta(days=7,hours=0, minutes=0)\n",
    "    \n",
    "    tloc1 = datetime(year, month, day+1,0,0)\n",
    "    tloc2 = datetime(year, month, day+1,23,59)\n",
    "    \n",
    "    tgmt1 = str(int((tloc1-tdiff-tweek).timestamp()))\n",
    "    tgmt2 = str(int(((tloc2-tdiff).timestamp())))\n",
    "    \n",
    "    tstr1 = (tloc1-tweek).strftime(\"%m-%d-%Y %H:%M\")\n",
    "    tstr2 = tloc2.strftime(\"%m-%d-%Y %H:%M\")\n",
    "    tstr1 = tstr1.replace('-','%2F').replace(':','%3A').replace(' ','+')\n",
    "    tstr2 = tstr2.replace('-','%2F').replace(':','%3A').replace(' ','+')\n",
    "    \n",
    "    template = '&s_time_id={}&s_time_id_f={}&e_time_id={}&e_time_id_f={}'.format(tgmt1,tstr1,tgmt2,tstr2)\n",
    "    return template\n",
    "rr+fweek()+opts"
   ]
  },
  {
   "cell_type": "code",
   "execution_count": null,
   "metadata": {},
   "outputs": [],
   "source": []
  },
  {
   "cell_type": "code",
   "execution_count": null,
   "metadata": {},
   "outputs": [],
   "source": []
  },
  {
   "cell_type": "code",
   "execution_count": null,
   "metadata": {},
   "outputs": [],
   "source": []
  },
  {
   "cell_type": "code",
   "execution_count": null,
   "metadata": {},
   "outputs": [],
   "source": []
  },
  {
   "cell_type": "code",
   "execution_count": null,
   "metadata": {},
   "outputs": [],
   "source": []
  },
  {
   "cell_type": "code",
   "execution_count": null,
   "metadata": {},
   "outputs": [],
   "source": []
  },
  {
   "cell_type": "code",
   "execution_count": null,
   "metadata": {},
   "outputs": [],
   "source": []
  },
  {
   "cell_type": "code",
   "execution_count": null,
   "metadata": {},
   "outputs": [],
   "source": []
  },
  {
   "cell_type": "code",
   "execution_count": null,
   "metadata": {},
   "outputs": [],
   "source": []
  },
  {
   "cell_type": "code",
   "execution_count": null,
   "metadata": {},
   "outputs": [],
   "source": []
  },
  {
   "cell_type": "code",
   "execution_count": null,
   "metadata": {},
   "outputs": [],
   "source": []
  },
  {
   "cell_type": "code",
   "execution_count": null,
   "metadata": {},
   "outputs": [],
   "source": []
  },
  {
   "cell_type": "code",
   "execution_count": null,
   "metadata": {},
   "outputs": [],
   "source": []
  },
  {
   "cell_type": "code",
   "execution_count": null,
   "metadata": {},
   "outputs": [],
   "source": []
  },
  {
   "cell_type": "code",
   "execution_count": null,
   "metadata": {},
   "outputs": [],
   "source": []
  },
  {
   "cell_type": "code",
   "execution_count": null,
   "metadata": {},
   "outputs": [],
   "source": []
  },
  {
   "cell_type": "code",
   "execution_count": null,
   "metadata": {},
   "outputs": [],
   "source": [
    "#    tloc = datetime(2021, 7, 8,0,0)\n",
    "#     tgmt = datetime.fromtimestamp(1625702400)\n",
    "#     tdiff = (tloc-tgmt)\n",
    "#     print(tdiff)\n",
    "    \n",
    "#     tloc = datetime(2021, 7, 14,23,59)\n",
    "#     tgmt = datetime.fromtimestamp(1626274740)\n",
    "#     tdiff = (tloc-tgmt)\n",
    "#     print(tdiff)\n",
    "    "
   ]
  },
  {
   "cell_type": "code",
   "execution_count": null,
   "metadata": {},
   "outputs": [],
   "source": []
  },
  {
   "cell_type": "code",
   "execution_count": 203,
   "metadata": {},
   "outputs": [
    {
     "data": {
      "text/plain": [
       "'07-15-2021 09:59'"
      ]
     },
     "execution_count": 203,
     "metadata": {},
     "output_type": "execute_result"
    }
   ],
   "source": [
    "tgmt = datetime.fromtimestamp(1626307140)\n",
    "tgmt.strftime(\"%m-%d-%Y %H:%M\")"
   ]
  },
  {
   "cell_type": "code",
   "execution_count": null,
   "metadata": {},
   "outputs": [],
   "source": [
    "1626299287000\n",
    "1625702400"
   ]
  },
  {
   "cell_type": "code",
   "execution_count": null,
   "metadata": {},
   "outputs": [],
   "source": [
    "s_time_id=1625702400&s_time_id_f=07%2F08%2F2021+00%3A00&e_time_id=1626307140&e_time_id_f=07%2F14%2F2021+23%3A59"
   ]
  },
  {
   "cell_type": "code",
   "execution_count": null,
   "metadata": {},
   "outputs": [],
   "source": []
  },
  {
   "cell_type": "code",
   "execution_count": 171,
   "metadata": {},
   "outputs": [
    {
     "name": "stdout",
     "output_type": "stream",
     "text": [
      "1626271140\n"
     ]
    }
   ],
   "source": [
    "import time\n",
    "import os\n",
    "day = '07-14-2021 23:59'\n",
    "my_time = time.strptime(day, \"%m-%d-%Y %H:%M\")\n",
    "print(int(time.mktime(my_time)))"
   ]
  },
  {
   "cell_type": "code",
   "execution_count": null,
   "metadata": {},
   "outputs": [],
   "source": [
    "1626307140"
   ]
  },
  {
   "cell_type": "code",
   "execution_count": null,
   "metadata": {},
   "outputs": [],
   "source": []
  },
  {
   "cell_type": "code",
   "execution_count": 179,
   "metadata": {},
   "outputs": [
    {
     "data": {
      "text/plain": [
       "1626271140.0"
      ]
     },
     "execution_count": 179,
     "metadata": {},
     "output_type": "execute_result"
    }
   ],
   "source": [
    "\n",
    "\n",
    "# tloc.strftime(\"%m-%d-%Y %H:%M\")\n",
    "tloc.timestamp()"
   ]
  },
  {
   "cell_type": "code",
   "execution_count": 180,
   "metadata": {},
   "outputs": [
    {
     "data": {
      "text/plain": [
       "1626307140"
      ]
     },
     "execution_count": 180,
     "metadata": {},
     "output_type": "execute_result"
    }
   ],
   "source": [
    "1626307140"
   ]
  },
  {
   "cell_type": "code",
   "execution_count": 181,
   "metadata": {},
   "outputs": [],
   "source": []
  },
  {
   "cell_type": "code",
   "execution_count": 183,
   "metadata": {},
   "outputs": [],
   "source": []
  },
  {
   "cell_type": "code",
   "execution_count": 185,
   "metadata": {},
   "outputs": [
    {
     "data": {
      "text/plain": [
       "datetime.datetime(2021, 7, 14, 13, 59)"
      ]
     },
     "execution_count": 185,
     "metadata": {},
     "output_type": "execute_result"
    }
   ],
   "source": [
    "tloc+tdiff"
   ]
  },
  {
   "cell_type": "code",
   "execution_count": null,
   "metadata": {},
   "outputs": [],
   "source": []
  },
  {
   "cell_type": "code",
   "execution_count": null,
   "metadata": {},
   "outputs": [],
   "source": []
  },
  {
   "cell_type": "code",
   "execution_count": null,
   "metadata": {},
   "outputs": [],
   "source": []
  },
  {
   "cell_type": "code",
   "execution_count": null,
   "metadata": {},
   "outputs": [],
   "source": []
  },
  {
   "cell_type": "code",
   "execution_count": null,
   "metadata": {},
   "outputs": [],
   "source": []
  },
  {
   "cell_type": "code",
   "execution_count": null,
   "metadata": {},
   "outputs": [],
   "source": []
  },
  {
   "cell_type": "code",
   "execution_count": null,
   "metadata": {},
   "outputs": [],
   "source": []
  },
  {
   "cell_type": "code",
   "execution_count": null,
   "metadata": {},
   "outputs": [],
   "source": []
  },
  {
   "cell_type": "code",
   "execution_count": null,
   "metadata": {},
   "outputs": [],
   "source": []
  },
  {
   "cell_type": "code",
   "execution_count": null,
   "metadata": {},
   "outputs": [],
   "source": []
  },
  {
   "cell_type": "code",
   "execution_count": null,
   "metadata": {},
   "outputs": [],
   "source": []
  },
  {
   "cell_type": "code",
   "execution_count": null,
   "metadata": {},
   "outputs": [],
   "source": []
  },
  {
   "cell_type": "code",
   "execution_count": null,
   "metadata": {},
   "outputs": [],
   "source": []
  },
  {
   "cell_type": "code",
   "execution_count": null,
   "metadata": {},
   "outputs": [],
   "source": []
  },
  {
   "cell_type": "code",
   "execution_count": null,
   "metadata": {},
   "outputs": [],
   "source": []
  },
  {
   "cell_type": "code",
   "execution_count": null,
   "metadata": {},
   "outputs": [],
   "source": []
  },
  {
   "cell_type": "code",
   "execution_count": 92,
   "metadata": {},
   "outputs": [
    {
     "name": "stdout",
     "output_type": "stream",
     "text": [
      "today timestamp = 1626299287000\n"
     ]
    }
   ],
   "source": [
    "import time\n",
    "import datetime\n",
    "import time as mod_time\n",
    "from datetime import datetime\n",
    "from datetime import datetime, timedelta\n",
    "from datetime import date, timedelta  \n",
    "\n",
    "today = datetime.now()\n",
    "yesterday = datetime.now() - timedelta(days=1)\n",
    "today_time = int((mod_time.mktime(today.timetuple())))\n",
    "yesterday_time = int((mod_time.mktime(yesterday.timetuple())))\n",
    "today_unixtime = (today_time*1000)\n",
    "yesterday_unixtime = (yesterday_time*1000)\n",
    "print(\"today timestamp =\", today_unixtime)"
   ]
  },
  {
   "cell_type": "code",
   "execution_count": 170,
   "metadata": {},
   "outputs": [
    {
     "name": "stdout",
     "output_type": "stream",
     "text": [
      "2021-07-08 00:00:00\n"
     ]
    }
   ],
   "source": [
    "import time\n",
    "\n",
    "# Enter the time in milliseconds, and transfer the time in normal format\n",
    "def stamptodate(timeNum):\n",
    "    timeStamp = float(timeNum/1000)\n",
    "    timeArray = time.gmtime(timeStamp)\n",
    "    otherStyleTime = time.strftime(\"%Y-%m-%d %H:%M:%S\", timeArray)\n",
    "    print(otherStyleTime)\n",
    "timeStamp(1625702400000)"
   ]
  },
  {
   "cell_type": "code",
   "execution_count": 169,
   "metadata": {},
   "outputs": [
    {
     "name": "stdout",
     "output_type": "stream",
     "text": [
      "1626271140\n"
     ]
    }
   ],
   "source": [
    "import time\n",
    "import os\n",
    "# os.environ['TZ'] = 'CDT'\n",
    "# time.tzset()\n",
    "# my_time = time.strptime(\"01-07-21\", \"%d-%m-%y\")\n",
    "\n",
    "day = '07-14-2021 23:59'\n",
    "my_time = time.strptime(day, \"%m-%d-%Y %H:%M\")\n",
    "# day.replace(':','%3A').replace('-','%2F')\n",
    "# print(my_time)\n",
    "print(int(time.mktime(my_time)))\n",
    "# time.gmtime(time.mktime(my_time))"
   ]
  },
  {
   "cell_type": "code",
   "execution_count": null,
   "metadata": {},
   "outputs": [],
   "source": [
    "datetime.fromtimestamp(1625702400)"
   ]
  },
  {
   "cell_type": "code",
   "execution_count": null,
   "metadata": {},
   "outputs": [],
   "source": []
  },
  {
   "cell_type": "code",
   "execution_count": null,
   "metadata": {},
   "outputs": [],
   "source": []
  },
  {
   "cell_type": "code",
   "execution_count": null,
   "metadata": {},
   "outputs": [],
   "source": []
  },
  {
   "cell_type": "code",
   "execution_count": null,
   "metadata": {},
   "outputs": [],
   "source": []
  },
  {
   "cell_type": "code",
   "execution_count": null,
   "metadata": {},
   "outputs": [],
   "source": [
    "1626307140"
   ]
  },
  {
   "cell_type": "code",
   "execution_count": null,
   "metadata": {},
   "outputs": [],
   "source": []
  },
  {
   "cell_type": "code",
   "execution_count": 125,
   "metadata": {},
   "outputs": [
    {
     "data": {
      "text/plain": [
       "time.struct_time(tm_year=2021, tm_mon=7, tm_mday=14, tm_hour=13, tm_min=59, tm_sec=0, tm_wday=2, tm_yday=195, tm_isdst=0)"
      ]
     },
     "execution_count": 125,
     "metadata": {},
     "output_type": "execute_result"
    }
   ],
   "source": [
    "time.gmtime(time.mktime(my_time))"
   ]
  },
  {
   "cell_type": "code",
   "execution_count": 154,
   "metadata": {},
   "outputs": [
    {
     "ename": "AttributeError",
     "evalue": "type object 'datetime.timezone' has no attribute 'gmt'",
     "output_type": "error",
     "traceback": [
      "\u001b[1;31m---------------------------------------------------------------------------\u001b[0m",
      "\u001b[1;31mAttributeError\u001b[0m                            Traceback (most recent call last)",
      "\u001b[1;32m<ipython-input-154-001bb41828a0>\u001b[0m in \u001b[0;36m<module>\u001b[1;34m\u001b[0m\n\u001b[0;32m      1\u001b[0m \u001b[1;32mfrom\u001b[0m \u001b[0mdatetime\u001b[0m \u001b[1;32mimport\u001b[0m \u001b[0mdatetime\u001b[0m\u001b[1;33m,\u001b[0m\u001b[0mtzinfo\u001b[0m\u001b[1;33m,\u001b[0m\u001b[0mtimezone\u001b[0m\u001b[1;33m\u001b[0m\u001b[1;33m\u001b[0m\u001b[0m\n\u001b[1;32m----> 2\u001b[1;33m \u001b[0mtt\u001b[0m \u001b[1;33m=\u001b[0m \u001b[0mdatetime\u001b[0m\u001b[1;33m(\u001b[0m\u001b[1;36m2021\u001b[0m\u001b[1;33m,\u001b[0m \u001b[1;36m7\u001b[0m\u001b[1;33m,\u001b[0m \u001b[1;36m14\u001b[0m\u001b[1;33m,\u001b[0m\u001b[1;36m23\u001b[0m\u001b[1;33m,\u001b[0m\u001b[1;36m59\u001b[0m\u001b[1;33m,\u001b[0m\u001b[0mtzinfo\u001b[0m\u001b[1;33m=\u001b[0m\u001b[0mtimezone\u001b[0m\u001b[1;33m.\u001b[0m\u001b[0mgmt\u001b[0m\u001b[1;33m)\u001b[0m\u001b[1;33m\u001b[0m\u001b[1;33m\u001b[0m\u001b[0m\n\u001b[0m\u001b[0;32m      3\u001b[0m \u001b[0mtt\u001b[0m\u001b[1;33m.\u001b[0m\u001b[0mstrftime\u001b[0m\u001b[1;33m(\u001b[0m\u001b[1;34m\"%m-%d-%Y %H:%M\"\u001b[0m\u001b[1;33m)\u001b[0m\u001b[1;33m\u001b[0m\u001b[1;33m\u001b[0m\u001b[0m\n",
      "\u001b[1;31mAttributeError\u001b[0m: type object 'datetime.timezone' has no attribute 'gmt'"
     ]
    }
   ],
   "source": [
    "from datetime import datetime,tzinfo,timezone,fromtimestamp\n",
    "tt = datetime(2021, 7, 14,23,59,tzinfo=timezone.utc)\n",
    "tt.strftime(\"%m-%d-%Y %H:%M\")"
   ]
  },
  {
   "cell_type": "code",
   "execution_count": 151,
   "metadata": {},
   "outputs": [
    {
     "ename": "TypeError",
     "evalue": "descriptor 'tzname' requires a 'datetime.tzinfo' object but received a 'str'",
     "output_type": "error",
     "traceback": [
      "\u001b[1;31m---------------------------------------------------------------------------\u001b[0m",
      "\u001b[1;31mTypeError\u001b[0m                                 Traceback (most recent call last)",
      "\u001b[1;32m<ipython-input-151-58e179cf512c>\u001b[0m in \u001b[0;36m<module>\u001b[1;34m\u001b[0m\n\u001b[1;32m----> 1\u001b[1;33m \u001b[0mtzinfo\u001b[0m\u001b[1;33m.\u001b[0m\u001b[0mtzname\u001b[0m\u001b[1;33m(\u001b[0m\u001b[1;34m'GMT'\u001b[0m\u001b[1;33m)\u001b[0m\u001b[1;33m\u001b[0m\u001b[1;33m\u001b[0m\u001b[0m\n\u001b[0m",
      "\u001b[1;31mTypeError\u001b[0m: descriptor 'tzname' requires a 'datetime.tzinfo' object but received a 'str'"
     ]
    }
   ],
   "source": [
    "tzinfo.tzname('GMT')"
   ]
  },
  {
   "cell_type": "code",
   "execution_count": 153,
   "metadata": {},
   "outputs": [
    {
     "data": {
      "text/plain": [
       "1626307140.0"
      ]
     },
     "execution_count": 153,
     "metadata": {},
     "output_type": "execute_result"
    }
   ],
   "source": [
    "tt.timestamp()"
   ]
  },
  {
   "cell_type": "code",
   "execution_count": 166,
   "metadata": {},
   "outputs": [
    {
     "data": {
      "text/plain": [
       "datetime.datetime(2021, 7, 8, 10, 0)"
      ]
     },
     "execution_count": 166,
     "metadata": {},
     "output_type": "execute_result"
    }
   ],
   "source": [
    "datetime.fromtimestamp(1625702400)"
   ]
  },
  {
   "cell_type": "code",
   "execution_count": null,
   "metadata": {},
   "outputs": [],
   "source": []
  },
  {
   "cell_type": "code",
   "execution_count": null,
   "metadata": {},
   "outputs": [],
   "source": [
    "1626299287000\n",
    "1625702400"
   ]
  },
  {
   "cell_type": "code",
   "execution_count": null,
   "metadata": {},
   "outputs": [],
   "source": []
  },
  {
   "cell_type": "code",
   "execution_count": 155,
   "metadata": {},
   "outputs": [
    {
     "data": {
      "text/plain": [
       "['__class__',\n",
       " '__delattr__',\n",
       " '__dir__',\n",
       " '__doc__',\n",
       " '__eq__',\n",
       " '__format__',\n",
       " '__ge__',\n",
       " '__getattribute__',\n",
       " '__getinitargs__',\n",
       " '__gt__',\n",
       " '__hash__',\n",
       " '__init__',\n",
       " '__init_subclass__',\n",
       " '__le__',\n",
       " '__lt__',\n",
       " '__ne__',\n",
       " '__new__',\n",
       " '__reduce__',\n",
       " '__reduce_ex__',\n",
       " '__repr__',\n",
       " '__setattr__',\n",
       " '__sizeof__',\n",
       " '__str__',\n",
       " '__subclasshook__',\n",
       " 'dst',\n",
       " 'fromutc',\n",
       " 'max',\n",
       " 'min',\n",
       " 'tzname',\n",
       " 'utc',\n",
       " 'utcoffset']"
      ]
     },
     "execution_count": 155,
     "metadata": {},
     "output_type": "execute_result"
    }
   ],
   "source": [
    "dir(timezone)"
   ]
  },
  {
   "cell_type": "code",
   "execution_count": 160,
   "metadata": {},
   "outputs": [
    {
     "ename": "TypeError",
     "evalue": "descriptor 'tzname' of 'datetime.timezone' object needs an argument",
     "output_type": "error",
     "traceback": [
      "\u001b[1;31m---------------------------------------------------------------------------\u001b[0m",
      "\u001b[1;31mTypeError\u001b[0m                                 Traceback (most recent call last)",
      "\u001b[1;32m<ipython-input-160-dc3a21144618>\u001b[0m in \u001b[0;36m<module>\u001b[1;34m\u001b[0m\n\u001b[1;32m----> 1\u001b[1;33m \u001b[0mtimezone\u001b[0m\u001b[1;33m.\u001b[0m\u001b[0mtzname\u001b[0m\u001b[1;33m(\u001b[0m\u001b[1;33m)\u001b[0m\u001b[1;33m\u001b[0m\u001b[1;33m\u001b[0m\u001b[0m\n\u001b[0m",
      "\u001b[1;31mTypeError\u001b[0m: descriptor 'tzname' of 'datetime.timezone' object needs an argument"
     ]
    }
   ],
   "source": [
    "timezone.tzname()"
   ]
  },
  {
   "cell_type": "code",
   "execution_count": null,
   "metadata": {},
   "outputs": [],
   "source": []
  },
  {
   "cell_type": "code",
   "execution_count": 28,
   "metadata": {},
   "outputs": [],
   "source": [
    "PBF = 'california-latest.osm.pbf'"
   ]
  },
  {
   "cell_type": "code",
   "execution_count": null,
   "metadata": {},
   "outputs": [],
   "source": [
    "UA = \"Mozilla/5.0 (X11; Linux x86_64; rv:60.0) Gecko/20100101 Firefox/81.0"
   ]
  },
  {
   "cell_type": "code",
   "execution_count": null,
   "metadata": {},
   "outputs": [],
   "source": []
  },
  {
   "cell_type": "code",
   "execution_count": null,
   "metadata": {},
   "outputs": [],
   "source": []
  }
 ],
 "metadata": {
  "kernelspec": {
   "display_name": "Python 3 (ipykernel)",
   "language": "python",
   "name": "python3"
  },
  "language_info": {
   "codemirror_mode": {
    "name": "ipython",
    "version": 3
   },
   "file_extension": ".py",
   "mimetype": "text/x-python",
   "name": "python",
   "nbconvert_exporter": "python",
   "pygments_lexer": "ipython3",
   "version": "3.10.9"
  }
 },
 "nbformat": 4,
 "nbformat_minor": 4
}
