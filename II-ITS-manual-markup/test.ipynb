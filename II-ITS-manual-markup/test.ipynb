{
 "cells": [
  {
   "cell_type": "code",
   "execution_count": 24,
   "id": "279861c1",
   "metadata": {},
   "outputs": [],
   "source": [
    "import pickle\n",
    "data=None\n",
    "\n",
    "def load_state():\n",
    "    global data, INDEX\n",
    "    try:\n",
    "        with open('speed-processed.pkl', 'rb') as f:\n",
    "            data = pickle.load(f)\n",
    "            \n",
    "    except FileNotFoundError:\n",
    "        INDEX = 0\n",
    "        data = pickle.load(open('speed.pkl','rb'))\n",
    "load_state()"
   ]
  },
  {
   "cell_type": "code",
   "execution_count": 25,
   "id": "a0991835",
   "metadata": {},
   "outputs": [],
   "source": [
    "ARR=[]\n",
    "for K in data.keys():\n",
    "    if data[K]['startM']>0:\n",
    "        ARR.append(K)"
   ]
  },
  {
   "cell_type": "code",
   "execution_count": 26,
   "id": "a823acd1",
   "metadata": {},
   "outputs": [
    {
     "data": {
      "text/plain": [
       "1001"
      ]
     },
     "execution_count": 26,
     "metadata": {},
     "output_type": "execute_result"
    }
   ],
   "source": [
    "len(ARR)"
   ]
  },
  {
   "cell_type": "code",
   "execution_count": null,
   "id": "bc73c130",
   "metadata": {},
   "outputs": [],
   "source": []
  }
 ],
 "metadata": {
  "kernelspec": {
   "display_name": "Python 3 (ipykernel)",
   "language": "python",
   "name": "python3"
  },
  "language_info": {
   "codemirror_mode": {
    "name": "ipython",
    "version": 3
   },
   "file_extension": ".py",
   "mimetype": "text/x-python",
   "name": "python",
   "nbconvert_exporter": "python",
   "pygments_lexer": "ipython3",
   "version": "3.10.4"
  }
 },
 "nbformat": 4,
 "nbformat_minor": 5
}
