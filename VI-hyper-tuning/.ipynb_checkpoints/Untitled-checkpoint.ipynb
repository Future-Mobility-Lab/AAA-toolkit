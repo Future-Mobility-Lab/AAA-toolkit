{
 "cells": [
  {
   "cell_type": "code",
   "execution_count": null,
   "id": "928ce079",
   "metadata": {},
   "outputs": [],
   "source": []
  },
  {
   "cell_type": "code",
   "execution_count": 1,
   "id": "d9d458ac",
   "metadata": {},
   "outputs": [],
   "source": [
    "import pickle\n",
    "data=None\n",
    "with open('data_intervals.pkl', 'rb') as f:\n",
    "    data = pickle.load(f)"
   ]
  },
  {
   "cell_type": "code",
   "execution_count": 10,
   "id": "2f9950bf",
   "metadata": {},
   "outputs": [
    {
     "data": {
      "text/plain": [
       "(4032,)"
      ]
     },
     "execution_count": 10,
     "metadata": {},
     "output_type": "execute_result"
    }
   ],
   "source": [
    "data['A-10030']['twoweeks'].shape"
   ]
  },
  {
   "cell_type": "code",
   "execution_count": null,
   "id": "2eef6d41",
   "metadata": {},
   "outputs": [],
   "source": [
    "combined_data = np.concatenate((data['A-10030']['twoweeks'], data['A-10030']['day']))\n",
    "\n",
    "# Split the combined array into groups of 288 values\n",
    "num_days = combined_data.shape[0] // 288\n",
    "daily_data = combined_data.reshape((num_days, 288))\n"
   ]
  },
  {
   "cell_type": "code",
   "execution_count": null,
   "id": "a8f38548",
   "metadata": {},
   "outputs": [],
   "source": []
  },
  {
   "cell_type": "code",
   "execution_count": 9,
   "id": "5c1a6797",
   "metadata": {},
   "outputs": [
    {
     "name": "stdout",
     "output_type": "stream",
     "text": [
      "Disruptions detected at levels: []\n"
     ]
    }
   ],
   "source": [
    "import numpy as np\n",
    "import pywt\n",
    "\n",
    "def detect_disruption(observations, threshold=1.5):\n",
    "    # Select the last day of observations\n",
    "    last_day_obs = observations[-1]\n",
    "    \n",
    "    # Apply Daubechies wavelet decomposition\n",
    "    coeffs = pywt.wavedec(last_day_obs, wavelet='db4', level=5)\n",
    "    \n",
    "    # Get the detail coefficients from the decomposition\n",
    "    details = coeffs[1:]\n",
    "\n",
    "    # Calculate the standard deviation of detail coefficients\n",
    "    std_devs = [np.std(detail) for detail in details]\n",
    "\n",
    "    # Find the average standard deviation\n",
    "    avg_std_dev = np.mean(std_devs)\n",
    "\n",
    "    # Detect disruption by comparing each detail's standard deviation to the average\n",
    "    disruptions = [i for i, std_dev in enumerate(std_devs) if std_dev > threshold * avg_std_dev]\n",
    "\n",
    "    return disruptions\n",
    "\n",
    "# Example usage\n",
    "observations = np.random.rand(14, 288)\n",
    "disruptions = detect_disruption(observations)\n",
    "\n",
    "print(\"Disruptions detected at levels:\", disruptions)"
   ]
  },
  {
   "cell_type": "code",
   "execution_count": null,
   "id": "6452b585",
   "metadata": {},
   "outputs": [],
   "source": []
  }
 ],
 "metadata": {
  "kernelspec": {
   "display_name": "Python 3 (ipykernel)",
   "language": "python",
   "name": "python3"
  },
  "language_info": {
   "codemirror_mode": {
    "name": "ipython",
    "version": 3
   },
   "file_extension": ".py",
   "mimetype": "text/x-python",
   "name": "python",
   "nbconvert_exporter": "python",
   "pygments_lexer": "ipython3",
   "version": "3.10.9"
  }
 },
 "nbformat": 4,
 "nbformat_minor": 5
}
