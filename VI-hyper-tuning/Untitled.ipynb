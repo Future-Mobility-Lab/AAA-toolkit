{
 "cells": [
  {
   "cell_type": "code",
   "execution_count": null,
   "id": "baf939ab",
   "metadata": {},
   "outputs": [],
   "source": []
  },
  {
   "cell_type": "code",
   "execution_count": 1,
   "id": "a3906233",
   "metadata": {},
   "outputs": [],
   "source": [
    "import pickle\n",
    "data=None\n",
    "with open('data_intervals.pkl', 'rb') as f:\n",
    "    data = pickle.load(f)"
   ]
  },
  {
   "cell_type": "code",
   "execution_count": 10,
   "id": "0123c9c4",
   "metadata": {},
   "outputs": [
    {
     "data": {
      "text/plain": [
       "(4032,)"
      ]
     },
     "execution_count": 10,
     "metadata": {},
     "output_type": "execute_result"
    }
   ],
   "source": [
    "data['A-10030']['twoweeks'].shape"
   ]
  },
  {
   "cell_type": "code",
   "execution_count": 11,
   "id": "ba45b38f",
   "metadata": {},
   "outputs": [],
   "source": [
    "combined_data = np.concatenate((data['A-10030']['twoweeks'], data['A-10030']['day']))\n",
    "\n",
    "# Split the combined array into groups of 288 values\n",
    "num_days = combined_data.shape[0] // 288\n",
    "daily_data = combined_data.reshape((num_days, 288))\n"
   ]
  },
  {
   "cell_type": "code",
   "execution_count": 13,
   "id": "b13ca399",
   "metadata": {},
   "outputs": [
    {
     "data": {
      "text/plain": [
       "(15, 288)"
      ]
     },
     "execution_count": 13,
     "metadata": {},
     "output_type": "execute_result"
    }
   ],
   "source": [
    "daily_data.shape"
   ]
  },
  {
   "cell_type": "code",
   "execution_count": 14,
   "id": "42f97b18",
   "metadata": {},
   "outputs": [
    {
     "name": "stdout",
     "output_type": "stream",
     "text": [
      "Disruptions detected at levels: [0, 1]\n"
     ]
    }
   ],
   "source": [
    "import numpy as np\n",
    "import pywt\n",
    "\n",
    "def detect_disruption(observations, threshold=1.5):\n",
    "    # Select the last day of observations\n",
    "    last_day_obs = observations[-1]\n",
    "    \n",
    "    # Apply Daubechies wavelet decomposition\n",
    "    coeffs = pywt.wavedec(last_day_obs, wavelet='db4', level=5)\n",
    "    \n",
    "    # Get the detail coefficients from the decomposition\n",
    "    details = coeffs[1:]\n",
    "\n",
    "    # Calculate the standard deviation of detail coefficients\n",
    "    std_devs = [np.std(detail) for detail in details]\n",
    "\n",
    "    # Find the average standard deviation\n",
    "    avg_std_dev = np.mean(std_devs)\n",
    "\n",
    "    # Detect disruption by comparing each detail's standard deviation to the average\n",
    "    disruptions = [i for i, std_dev in enumerate(std_devs) if std_dev > threshold * avg_std_dev]\n",
    "\n",
    "    return disruptions\n",
    "\n",
    "# Example usage\n",
    "observations = daily_data#np.random.rand(14, 288)\n",
    "disruptions = detect_disruption(observations)\n",
    "\n",
    "print(\"Disruptions detected at levels:\", disruptions)"
   ]
  },
  {
   "cell_type": "code",
   "execution_count": 16,
   "id": "abfaf946",
   "metadata": {},
   "outputs": [
    {
     "name": "stdout",
     "output_type": "stream",
     "text": [
      "Disruptions observed at intervals: [(65.09694836278669, 64.88107642760461), (64.61980618786028, 64.55474975249832), (64.55474975249832, 64.49900257368877), (64.49900257368877, 64.45005730189463), (64.45005730189463, 64.45068286671143), (64.49305720847254, 64.51017122338355), (64.51017122338355, 64.50255780224843), (63.51752439647645, 63.64375852788479), (63.64375852788479, 63.874721151862246)]\n"
     ]
    }
   ],
   "source": [
    "import numpy as np\n",
    "import pywt\n",
    "\n",
    "def detect_disruption(observations, threshold=1.5):\n",
    "    # Select the last day of observations\n",
    "    last_day_obs = observations[-1]\n",
    "    \n",
    "    # Apply Daubechies wavelet decomposition\n",
    "    coeffs = pywt.wavedec(last_day_obs, wavelet='db4', level=5)\n",
    "    \n",
    "    # Get the detail coefficients from the decomposition\n",
    "    details = coeffs[1:]\n",
    "\n",
    "    # Calculate the standard deviation of detail coefficients\n",
    "    std_devs = [np.std(detail) for detail in details]\n",
    "\n",
    "    # Find the average standard deviation\n",
    "    avg_std_dev = np.mean(std_devs)\n",
    "\n",
    "    # Detect disruption by comparing each detail's standard deviation to the average\n",
    "    disruption_levels = [i for i, std_dev in enumerate(std_devs) if std_dev > threshold * avg_std_dev]\n",
    "\n",
    "    # Calculate exact intervals of disruption\n",
    "    disruption_intervals = []\n",
    "    for level in disruption_levels:\n",
    "        detail = details[level]\n",
    "        disruption_indices = np.where(np.abs(detail) > threshold * avg_std_dev)[0]\n",
    "        \n",
    "        for idx in disruption_indices:\n",
    "            # Set all other details to zero\n",
    "            modified_coeffs = [coeffs[0]] + [(detail if i == level else np.zeros_like(detail)) for i, detail in enumerate(details)]\n",
    "            \n",
    "            # Reconstruct the original signal using the modified coefficients\n",
    "            reconstructed_signal = pywt.waverec(modified_coeffs, 'db4')\n",
    "            \n",
    "            disruption_intervals.append((reconstructed_signal[idx], reconstructed_signal[idx+1]))\n",
    "    \n",
    "    return disruption_intervals\n",
    "\n",
    "# Example usage\n",
    "observations = daily_data\n",
    "disruption_intervals = detect_disruption(observations)\n",
    "\n",
    "print(\"Disruptions observed at intervals:\", disruption_intervals)\n"
   ]
  },
  {
   "cell_type": "code",
   "execution_count": null,
   "id": "e7d9b445",
   "metadata": {},
   "outputs": [],
   "source": []
  }
 ],
 "metadata": {
  "kernelspec": {
   "display_name": "Python 3 (ipykernel)",
   "language": "python",
   "name": "python3"
  },
  "language_info": {
   "codemirror_mode": {
    "name": "ipython",
    "version": 3
   },
   "file_extension": ".py",
   "mimetype": "text/x-python",
   "name": "python",
   "nbconvert_exporter": "python",
   "pygments_lexer": "ipython3",
   "version": "3.10.9"
  }
 },
 "nbformat": 4,
 "nbformat_minor": 5
}
